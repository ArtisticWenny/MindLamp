{
  "nbformat": 4,
  "nbformat_minor": 0,
  "metadata": {
    "colab": {
      "provenance": [],
      "authorship_tag": "ABX9TyOMmnRwV90BTRYiMEvAImD5",
      "include_colab_link": true
    },
    "kernelspec": {
      "name": "python3",
      "display_name": "Python 3"
    },
    "language_info": {
      "name": "python"
    }
  },
  "cells": [
    {
      "cell_type": "markdown",
      "metadata": {
        "id": "view-in-github",
        "colab_type": "text"
      },
      "source": [
        "<a href=\"https://colab.research.google.com/github/ArtisticWenny/MindLamp/blob/main/MindLamp_CLIENT.ipynb\" target=\"_parent\"><img src=\"https://colab.research.google.com/assets/colab-badge.svg\" alt=\"Open In Colab\"/></a>"
      ]
    },
    {
      "cell_type": "markdown",
      "source": [
        "Import and install Packages\n"
      ],
      "metadata": {
        "id": "qKJEtGW-Qb66"
      }
    },
    {
      "cell_type": "code",
      "execution_count": null,
      "metadata": {
        "id": "zbh-hg1nPJs5"
      },
      "outputs": [],
      "source": [
        "!pip install LAMP-core"
      ]
    },
    {
      "cell_type": "code",
      "source": [
        "import LAMP\n",
        "import requests"
      ],
      "metadata": {
        "id": "1l5kTxn_PMs2"
      },
      "execution_count": null,
      "outputs": []
    },
    {
      "cell_type": "markdown",
      "source": [
        "Setting up Activities / Games"
      ],
      "metadata": {
        "id": "Va9jFKDoQpGy"
      }
    },
    {
      "cell_type": "code",
      "source": [
        "endpoint = 'https://mindlamp.api.{YOUR_ENDPOINT}.com/activity_spec'"
      ],
      "metadata": {
        "id": "b4zyNurmPOA1"
      },
      "execution_count": null,
      "outputs": []
    },
    {
      "cell_type": "code",
      "source": [
        "headers = {\n",
        "    'Content-Type': 'application/json',\n",
        "    'Authorization': 'Basic {USER}:{PASSWORD},\n",
        "    }"
      ],
      "metadata": {
        "id": "5C5vRkJNPPt9"
      },
      "execution_count": null,
      "outputs": []
    },
    {
      "cell_type": "code",
      "source": [
        "response = requests.post(endpoint, headers=headers, json=bodytosend)\n",
        "response.status_code\n",
        "response.text"
      ],
      "metadata": {
        "id": "BbzymvptPRyK"
      },
      "execution_count": null,
      "outputs": []
    },
    {
      "cell_type": "markdown",
      "source": [
        "Assign bodytosend to an activity and its parameters\n",
        "\n"
      ],
      "metadata": {
        "id": "lQxo4CesQspI"
      }
    },
    {
      "cell_type": "markdown",
      "source": [
        "Balloon Risk\n"
      ],
      "metadata": {
        "id": "64Tqrwc7QtFF"
      }
    },
    {
      "cell_type": "code",
      "source": [
        "bodytosend = {\n",
        "    'name': 'lamp.balloon_risk',\n",
        "   'balloon_count': 15,\n",
        "   'breakpoint_mean': 64.5,\n",
        "   'breakpoint_std': 37,\n",
        "   'static_data': {'points': 55},\n",
        "   'temporal_slices': [\n",
        "       {'duration': 1821, 'item': 1, 'level': 1, 'type': True, 'value': 1},\n",
        "       {'duration': 876, 'item': 2, 'level': 1, 'type': True, 'value': 1},\n",
        "       {'duration': 425, 'item': 3, 'level': 1, 'type': True, 'value': 1},\n",
        "       {'duration': 167, 'item': 8, 'level': 1, 'type': True, 'value': 1},\n",
        "       # ... other entries ...\n",
        "       {'duration': 151, 'item': 74, 'level': 2, 'type': True, 'value': 1},\n",
        "       {'duration': 178, 'item': 75, 'level': 2, 'type': True, 'value': 1},\n",
        "       {'duration': 161, 'item': 76, 'level': 2, 'type': False, 'value': 0},\n",
        "       # ... other entries ...\n",
        "       {'duration': 809, 'item': 1, 'level': 15, 'type': True, 'value': 1}\n",
        "   ],\n",
        "   'timestamp': 1642779164213,\n",
        "   'duration': 78365,\n",
        "   'activity': '8vw829aemgdxy8f1fvk9'\n",
        "}\n",
        ""
      ],
      "metadata": {
        "id": "3iy-HVzcPTUI"
      },
      "execution_count": null,
      "outputs": []
    },
    {
      "cell_type": "markdown",
      "source": [
        "Cats And Dogs\n"
      ],
      "metadata": {
        "id": "t8WdU9VxQwqp"
      }
    },
    {
      "cell_type": "code",
      "source": [
        "bodytosend = {\n",
        "    'name': \"lamp.cats_and_dogs\",\n",
        "   'duration': 445841,\n",
        "   'static_data':\n",
        "   {'StartTime': None, 'correct_answers': 22, 'point': 1, 'score': 49, 'type': 1, 'wrong_answers': 1},\n",
        "   'temporal_slices':\n",
        "   [{'duration': 5243, 'item': 9, 'level': 1,'type': True,'value': None},\n",
        "    {'duration': 2611, 'item': 5, 'level': 1, 'type': True, 'value': None},\n",
        "    {'duration': 1125, 'item': 8, 'level': 1, 'type': True, 'value': None},\n",
        "    {'duration': 2688, 'item': 2, 'level': 1, 'type': True, 'value': None},\n",
        "    {'duration': 946, 'item': 3, 'level': 1, 'type': True, 'value': None},\n",
        "    {'duration': 1000, 'item': 4, 'level': 1, 'type': True, 'value': None},\n",
        "    {'duration': 4568, 'item': 4, 'level': 1, 'type': True, 'value': None},\n",
        "    {'duration': 1035, 'item': 6, 'level': 1, 'type': True, 'value': None},\n",
        "    {'duration': 843, 'item': 3, 'level': 1, 'type': True, 'value': None},\n",
        "    {'duration': 798, 'item': 2, 'level': 1, 'type': True, 'value': None},\n",
        "    {'duration': 4298, 'item': 1, 'level': 1, 'type': True, 'value': None},\n",
        "    {'duration': 854, 'item': 8, 'level': 1, 'type': True, 'value': None},\n",
        "    {'duration': 1397, 'item': 5, 'level': 1, 'type': True, 'value': None},\n",
        "    {'duration': 885, 'item': 9, 'level': 1, 'type': True, 'value': None},\n",
        "    {'duration': 4338, 'item': 10, 'level': 1, 'type': True, 'value': None},\n",
        "    {'duration': 624, 'item': 9, 'level': 1, 'type': True, 'value': None},\n",
        "    {'duration': 2846, 'item': 3, 'level': 1, 'type': True, 'value': None},\n",
        "    {'duration': 2002, 'item': 8, 'level': 2, 'type': False, 'value': None},\n",
        "    {'duration': 1981, 'item': 5, 'level': 2, 'type': True, 'value': None},\n",
        "    {'duration': 731, 'item': 3, 'level': 2, 'type': True, 'value': None},\n",
        "    {'duration': 4555, 'item': 4, 'level': 2, 'type': True, 'value': None},\n",
        "    {'duration': 1608, 'item': 3, 'level': 2, 'type': True, 'value': None},\n",
        "    {'duration': 910, 'item': 5, 'level': 2, 'type': True, 'value': None}],\n",
        "   'timestamp': 1649447701749,\n",
        "   'activity': 'sjfvrd7jpjyjzbkgwex4'\n",
        "}"
      ],
      "metadata": {
        "id": "xf4XS130PVhF"
      },
      "execution_count": null,
      "outputs": []
    },
    {
      "cell_type": "markdown",
      "source": [
        "Setting up Sensors\n"
      ],
      "metadata": {
        "id": "MNv3iXRTQ0Eb"
      }
    },
    {
      "cell_type": "code",
      "source": [
        "endpoint = 'https://mindlamp.api.{YOUR_ENDPOINT}.com/sensor_spec'"
      ],
      "metadata": {
        "id": "S1Ms22VGPXsi"
      },
      "execution_count": null,
      "outputs": []
    },
    {
      "cell_type": "code",
      "source": [
        "headers = {\n",
        "    'Content-Type': 'application/json',\n",
        "    'Authorization': 'Basic {USER}:{PASSWORD},\n",
        "    }"
      ],
      "metadata": {
        "id": "Lq7HTT9GPbT1"
      },
      "execution_count": null,
      "outputs": []
    },
    {
      "cell_type": "code",
      "source": [
        "bodytosend = {\"name\":\"lamp.insert_here\"}"
      ],
      "metadata": {
        "id": "l4BPYr65PdS5"
      },
      "execution_count": null,
      "outputs": []
    },
    {
      "cell_type": "markdown",
      "source": [
        "Sensor Types:\n",
        "\n",
        "* Analytics = lamp.analytics\n",
        "* Location = lamp.gps\n",
        "* Device Motion = lamp.device_motion\n",
        "* Accelerometer = lamp.accelerometer\n",
        "* Pedometer = lamp.steps\n",
        "* Sleep = lamp.sleep\n",
        "* Nutrition = lamp.nutrition\n",
        "* Workouts = lamp.segment\n",
        "* Screen = lamp.screen_state\n",
        "* Bluetooth & WiFi = lamp.nearby_device\n",
        "* Calls & Texts = lamp.telephony\n",
        "* Blood Pressure = lamp.blood_pressure\n",
        "* Blood Glucose = lamp.blood_glucose\n",
        "* Oxygen Saturation = lamp.oxygen_saturation\n",
        "* Body Temperature = lamp.body_temperature\n",
        "* Heart Rate & HRV = lamp.heart_rate\n",
        "* Respiratory Rate = lamp.respiratory_rate\n",
        "* Activity Recognition = lamp.activity_recognition\n",
        "* None = lamp.none\n",
        "\n",
        "\n"
      ],
      "metadata": {
        "id": "SU0y7gjYPfGT"
      }
    },
    {
      "cell_type": "code",
      "source": [
        "response = requests.post(endpoint, headers=headers, json=bodytosend)\n",
        "print(response.status_code)\n",
        "print(response.text)"
      ],
      "metadata": {
        "id": "4anxTQnnPg6t"
      },
      "execution_count": null,
      "outputs": []
    },
    {
      "cell_type": "markdown",
      "source": [
        "Extracting Data\n"
      ],
      "metadata": {
        "id": "9YWOE0XKQ2xQ"
      }
    },
    {
      "cell_type": "markdown",
      "source": [
        "Getting the Research ID\n"
      ],
      "metadata": {
        "id": "mLTJYzwgQ4fS"
      }
    },
    {
      "cell_type": "code",
      "source": [
        "LAMP.connect(\"api.lamp.digital\", \"email@address.com\", \"password\")"
      ],
      "metadata": {
        "id": "UPkj5BGdPisB"
      },
      "execution_count": null,
      "outputs": []
    },
    {
      "cell_type": "code",
      "source": [
        "response = LAMP.Researcher.list()"
      ],
      "metadata": {
        "id": "EUzpvMMWPkMc"
      },
      "execution_count": null,
      "outputs": []
    },
    {
      "cell_type": "markdown",
      "source": [
        "Getting Participant ID\n"
      ],
      "metadata": {
        "id": "I6J6GbFuQ6Tc"
      }
    },
    {
      "cell_type": "code",
      "source": [
        "[LAMP.Participant.all_by_study(study['id'])['data'] for study in LAMP.Study.all_by_researcher(TEST_RESEARCHER)['data']]"
      ],
      "metadata": {
        "id": "eYcLb0l8PlnA"
      },
      "execution_count": null,
      "outputs": []
    },
    {
      "cell_type": "markdown",
      "source": [
        "Getting Activity Event Data\n"
      ],
      "metadata": {
        "id": "5utkkziaQ8R7"
      }
    },
    {
      "cell_type": "markdown",
      "source": [
        "From before, set participant_1 to a participant ID\n",
        "\n"
      ],
      "metadata": {
        "id": "kHkD2t8MQ-A1"
      }
    },
    {
      "cell_type": "code",
      "source": [
        "participant_1 = \"U1679776962\""
      ],
      "metadata": {
        "id": "RZojZejgPnbE"
      },
      "execution_count": null,
      "outputs": []
    },
    {
      "cell_type": "code",
      "source": [
        "LAMP.ActivityEvent.all_by_participant(participant_1)[0]"
      ],
      "metadata": {
        "id": "rS_6_iRpPpfR"
      },
      "execution_count": null,
      "outputs": []
    },
    {
      "cell_type": "markdown",
      "source": [
        "To see data from a participant:\n",
        "\n"
      ],
      "metadata": {
        "id": "xsu5xfZXRIY_"
      }
    },
    {
      "cell_type": "code",
      "source": [
        "participant_1 = \"U1679776962\"\n",
        "activity_events = LAMP.ActivityEvent.all_by_participant(participant_1)['data']\n",
        "\n",
        "# Iterate over all activity events\n",
        "for index, activity_event in enumerate(activity_events):\n",
        "    print(f\"Activity Event {index + 1}: {activity_event}\")"
      ],
      "metadata": {
        "id": "CK71FGAOPqqX"
      },
      "execution_count": null,
      "outputs": []
    },
    {
      "cell_type": "markdown",
      "source": [
        "Saving data into a CSV file:\n",
        "\n"
      ],
      "metadata": {
        "id": "wjwOs5QpRLdA"
      }
    },
    {
      "cell_type": "code",
      "source": [
        "import pandas as pd\n",
        "\n",
        "participant_1 = \"U1679776962\"\n",
        "activity_events = LAMP.ActivityEvent.all_by_participant(participant_1)['data']\n",
        "events = LAMP.SensorEvent.all_by_participant(participant_1, origin='lamp.gps.contextual')['data']\n",
        "\n",
        "data = []\n",
        "\n",
        "for index, activity_event in enumerate(activity_events):\n",
        "    print(f\"Activity Event {index + 1}: {activity_event}\")\n",
        "\n",
        "    if 'temporal_slices' in activity_event:\n",
        "        for slice_data in activity_event['temporal_slices']:\n",
        "            data.append({\n",
        "                'event_type': 'Mental Health Assessment',\n",
        "                'timestamp': activity_event['timestamp'],\n",
        "                'item': slice_data['item'],\n",
        "                'value': slice_data['value'],\n",
        "                'duration': slice_data['duration']\n",
        "            })\n",
        "    elif 'static_data' in activity_event:\n",
        "        data.append({\n",
        "            'event_type': 'Game or Task',\n",
        "            'timestamp': activity_event['timestamp'],\n",
        "            'score': activity_event['static_data']['score'],\n",
        "            'total_attempts': activity_event['static_data']['total_attempts'],\n",
        "        })\n",
        "\n",
        "if len(data) > 0:\n",
        "    df1 = pd.DataFrame(data)\n",
        "    print(df1.head(20))"
      ],
      "metadata": {
        "id": "YpXuwqemPr_r"
      },
      "execution_count": null,
      "outputs": []
    },
    {
      "cell_type": "markdown",
      "source": [
        "Getting Sensor Data\n"
      ],
      "metadata": {
        "id": "4n36viJDROTC"
      }
    },
    {
      "cell_type": "code",
      "source": [
        "LAMP.SensorEvent.all_by_participant(participant_1)"
      ],
      "metadata": {
        "id": "Nph5bIGLPuRZ"
      },
      "execution_count": null,
      "outputs": []
    },
    {
      "cell_type": "markdown",
      "source": [
        "Alternate method with Requests\n"
      ],
      "metadata": {
        "id": "APw8KNU4RQfW"
      }
    },
    {
      "cell_type": "code",
      "source": [
        "base_url = 'https://mindlamp.api.yourendpoint.com/'"
      ],
      "metadata": {
        "id": "-1POQdEWPv88"
      },
      "execution_count": null,
      "outputs": []
    },
    {
      "cell_type": "code",
      "source": [
        "user = 'user'\n",
        "password = 'password'"
      ],
      "metadata": {
        "id": "s47pGssePxWF"
      },
      "execution_count": null,
      "outputs": []
    },
    {
      "cell_type": "code",
      "source": [
        "participant_id ='U1679776962'"
      ],
      "metadata": {
        "id": "z10Q0oOLP0nn"
      },
      "execution_count": null,
      "outputs": []
    },
    {
      "cell_type": "code",
      "source": [
        "endpoint = f\"participant/{participant_id}/activity_event/\"\n",
        "final_url = base_url + endpoint"
      ],
      "metadata": {
        "id": "IyWFy2bTP2HR"
      },
      "execution_count": null,
      "outputs": []
    },
    {
      "cell_type": "code",
      "source": [
        "response = requests.get(final_url, auth=(email, password))\n",
        "print(\"Status Code:\", response.status_code)\n",
        "print(\"Response Text:\", response.text)"
      ],
      "metadata": {
        "id": "r1J-ZDD7P35w"
      },
      "execution_count": null,
      "outputs": []
    }
  ]
}